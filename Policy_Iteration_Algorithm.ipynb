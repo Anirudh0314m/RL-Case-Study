{
 "cells": [
  {
   "cell_type": "markdown",
   "id": "a791c4db",
   "metadata": {},
   "source": [
    "# Policy Iteration Algorithm\n",
    "\n",
    "This notebook implements the **Policy Iteration Algorithm** algorithm in a **GridWorld** environment. The goal is to estimate the state-value function using the specified reinforcement learning approach.\n",
    "\n"
   ]
  },
  {
   "cell_type": "code",
   "execution_count": 4,
   "id": "46956762-c058-44da-8574-c5dacb85b9fd",
   "metadata": {},
   "outputs": [],
   "source": [
    "import numpy as np\n",
    "import matplotlib.pyplot as plt\n",
    "\n",
    "# GridWorld Environment (4x4)\n",
    "GRID_SIZE = 4\n",
    "GAMMA = 0.9 # Discount factor\n",
    "THETA = 1e-4  # Convergence threshold\n",
    "\n",
    "ACTIONS = [(0, -1), (0, 1), (-1, 0), (1, 0)]  # LEFT, RIGHT, UP, DOWN\n",
    "\n",
    "def initialize_grid():\n",
    "    return np.zeros((GRID_SIZE, GRID_SIZE))  # Initialize value function to 0\n",
    "\n",
    "def is_terminal(state):\n",
    "    return state == (0, 0)\n",
    "\n",
    "def get_next_states(state):\n",
    "    \"\"\"Returns possible next states and reward.\"\"\"\n",
    "    i, j = state\n",
    "    transitions = []\n",
    "    for action in ACTIONS:\n",
    "        ni, nj = i + action[0], j + action[1]\n",
    "        if 0 <= ni < GRID_SIZE and 0 <= nj < GRID_SIZE:\n",
    "            transitions.append(((ni, nj), -1))  # Valid move with reward -1\n",
    "        else:\n",
    "            transitions.append((state, -1))  # Hitting wall, stays in place\n",
    "    return transitions\n",
    "\n",
    "def dp_prediction():\n",
    "    V = initialize_grid()\n",
    "    while True:\n",
    "        delta = 0\n",
    "        new_V = np.copy(V)\n",
    "        for i in range(GRID_SIZE):\n",
    "            for j in range(GRID_SIZE):\n",
    "                if is_terminal((i, j)):\n",
    "                    continue\n",
    "\n",
    "                value_sum = 0\n",
    "                for next_state, reward in get_next_states((i, j)):\n",
    "                    value_sum += (1 / len(ACTIONS)) * (reward + GAMMA * V[next_state])\n",
    "\n",
    "                delta = max(delta, abs(value_sum - V[i, j]))\n",
    "                new_V[i, j] = value_sum\n",
    "\n",
    "        V = new_V\n",
    "        if delta < THETA:\n",
    "            break\n",
    "\n",
    "    return V\n",
    "\n",
    "def plot_value_function(V, title=\"Value Function (DP Prediction)\"):\n",
    "    plt.figure(figsize=(6,6))\n",
    "    plt.imshow(V, cmap='coolwarm', interpolation='nearest')\n",
    "    for i in range(GRID_SIZE):\n",
    "        for j in range(GRID_SIZE):\n",
    "            plt.text(j, i, f\"{V[i, j]:.1f}\", ha='center', va='center', color='black')\n",
    "    plt.colorbar()\n",
    "    plt.title(title)\n",
    "    plt.show()\n",
    "\n"
   ]
  },
  {
   "cell_type": "markdown",
   "id": "25e274e1-e0a7-4573-b147-9ae94b0046b4",
   "metadata": {},
   "source": [
    "## **Main Function Explanation (Policy Iteration Algorithm - MDP)**\n",
    "\n",
    "The **Policy Iteration algorithm** is a **Dynamic Programming (DP) method** that finds the **optimal policy** in a **Markov Decision Process (MDP)**.\n",
    "\n",
    "### **Steps in the Main Function:**\n",
    "\n",
    "1. **Initialize Policy and Value Function:**\n",
    "   - A random **policy** is initialized.\n",
    "   - The state-value function \\( V(s) \\) is set to **zero**.\n",
    "\n",
    "2. **Policy Evaluation:**\n",
    "   - The value function is updated by solving the **Bellman expectation equation**:\n",
    "     \\[\n",
    "     V(s) = \\sum_a \\pi(a|s) \\sum_{s'} P(s' | s, a) [R + \\gamma V(s')]\n",
    "     \\]\n",
    "   - This step calculates the **expected value of each state** under the **current policy**.\n",
    "\n",
    "3. **Policy Improvement:**\n",
    "   - The policy is updated by selecting the **action that maximizes the expected return**:\n",
    "     \\[\n",
    "     \\pi(s) = \\arg\\max_a \\sum_{s'} P(s' | s, a) [R + \\gamma V(s')]\n",
    "     \\]\n",
    "\n",
    "4. **Check for Convergence:**\n",
    "   - If the policy **remains unchanged** after an iteration, it is considered **optimal**, and the algorithm **terminates**.\n",
    "\n",
    "5. **Repeat Until Optimal Policy is Found:**\n",
    "   - Steps **2 and 3** are repeated until **policy stabilization** occurs.\n",
    "\n",
    "### **Why is This Important?**\n",
    "- **Guarantees convergence** to the **optimal policy** in an MDP.\n",
    "- **Iteratively refines** both **value function and policy**, leading to an **optimal decision-making strategy**.\n",
    "- Used in environments where **transition probabilities are known**.\n"
   ]
  },
  {
   "cell_type": "code",
   "execution_count": 5,
   "id": "08a9cd2f-8b16-424d-b5d6-c0e58daaf2ca",
   "metadata": {},
   "outputs": [
    {
     "name": "stdout",
     "output_type": "stream",
     "text": [
      "Final Value Function:\n",
      "[[ 0.         -5.75679728 -7.96938576 -8.7495446 ]\n",
      " [-5.75679728 -7.41532345 -8.4996051  -8.97427565]\n",
      " [-7.96938576 -8.4996051  -8.97291016 -9.21814898]\n",
      " [-8.7495446  -8.97427565 -9.21814898 -9.36014481]]\n"
     ]
    },
    {
     "data": {
      "image/png": "[encoded data removed]",
      "text/plain": [
       "<Figure size 600x600 with 2 Axes>"
      ]
     },
     "metadata": {},
     "output_type": "display_data"
    }
   ],
   "source": [
    "# Run DP Prediction\n",
    "V_dp = dp_prediction()\n",
    "print(\"Final Value Function:\")\n",
    "print(V_dp)\n",
    "plot_value_function(V_dp)\n"
   ]
  },
  {
   "cell_type": "markdown",
   "id": "bf0c7db4-8301-45cc-bc40-20c0f4823fb0",
   "metadata": {},
   "source": [
    "## **Brief Explanation of the Output (Policy Iteration - MDP)**\n",
    "\n",
    "The heatmap represents the **state-value function** \\( V(s) \\) estimated using **Policy Iteration** in a **Markov Decision Process (MDP)** setting.\n",
    "\n",
    "### **Color Mapping:**\n",
    "- **Red (higher values, closer to 0):** States with a **higher expected return under the optimal policy**.\n",
    "- **Blue (lower values, more negative):** States with a **lower expected return**.\n",
    "\n",
    "### **Policy Iteration Learning Pattern:**\n",
    "- The **algorithm alternates between policy evaluation and policy improvement**, leading to a **stable and optimal value function**.\n",
    "- The value function **becomes smooth and structured** since each state follows the **best possible policy**.\n",
    "\n",
    "### **Gradient of Values:**\n",
    "- The **goal or optimal states** have the **highest values**.\n",
    "- The values **decrease gradually** as you move away from favorable states.\n",
    "\n",
    "### **Key Takeaways:**\n",
    "- Policy Iteration ensures **convergence to the optimal policy**.\n",
    "- The heatmap **shows an optimal value function** after multiple iterations.\n",
    "- The **MDP framework ensures mathematically stable results**, making it a reliable approach for solving **known environments**.\n"
   ]
  }
 ],
 "metadata": {
  "kernelspec": {
   "display_name": "Python 3 (ipykernel)",
   "language": "python",
   "name": "python3"
  },
  "language_info": {
   "codemirror_mode": {
    "name": "ipython",
    "version": 3
   },
   "file_extension": ".py",
   "mimetype": "text/x-python",
   "name": "python",
   "nbconvert_exporter": "python",
   "pygments_lexer": "ipython3",
   "version": "3.11.7"
  }
 },
 "nbformat": 4,
 "nbformat_minor": 5
}
