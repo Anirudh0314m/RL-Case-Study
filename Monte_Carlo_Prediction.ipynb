{
 "cells": [
  {
   "cell_type": "markdown",
   "id": "5c6c3d29",
   "metadata": {},
   "source": [
    "# MONTE CARLO Algorithm\n",
    "\n",
    "This notebook implements the **Monte Carlo Algorithm** algorithm in a **GridWorld** environment. The goal is to estimate the state-value function using the specified reinforcement learning approach.\n",
    "\n"
   ]
  },
  {
   "cell_type": "code",
   "execution_count": 2,
   "id": "c9f9ba93",
   "metadata": {},
   "outputs": [],
   "source": [
    "import numpy as np\n",
    "import matplotlib.pyplot as plt\n",
    "\n",
    "# GridWorld Environment (4x4)\n",
    "GRID_SIZE = 4\n",
    "GAMMA = 0.9  # Discount factor\n",
    "EPISODES = 1000\n",
    "\n",
    "def initialize_grid():\n",
    "    return np.zeros((GRID_SIZE, GRID_SIZE))  # Initialize value function to 0\n",
    "\n",
    "def get_next_state(state, action):\n",
    "    \"\"\" Returns next state based on action (UP, DOWN, LEFT, RIGHT). \"\"\"\n",
    "    i, j = state\n",
    "    if action == 0 and i > 0:  # UP\n",
    "        i -= 1\n",
    "    elif action == 1 and i < GRID_SIZE - 1:  # DOWN\n",
    "        i += 1\n",
    "    elif action == 2 and j > 0:  # LEFT\n",
    "        j -= 1\n",
    "    elif action == 3 and j < GRID_SIZE - 1:  # RIGHT\n",
    "        j += 1\n",
    "    return (i, j)\n",
    "\n",
    "def generate_episode():\n",
    "    \"\"\" Generates an episode using a random policy. \"\"\"\n",
    "    episode = []\n",
    "    state = (np.random.randint(0, GRID_SIZE), np.random.randint(0, GRID_SIZE))\n",
    "    while state != (0, 0):  # Terminal state\n",
    "        action = np.random.choice(4)  # Random action\n",
    "        next_state = get_next_state(state, action)\n",
    "        reward = -1  # Step penalty\n",
    "        episode.append((state, reward))\n",
    "        state = next_state\n",
    "    return episode\n",
    "\n",
    "def mc_prediction():\n",
    "    V = initialize_grid()\n",
    "    returns = {state: [] for state in [(i, j) for i in range(GRID_SIZE) for j in range(GRID_SIZE)]}\n",
    "\n",
    "    for episode_num in range(1, EPISODES + 1):\n",
    "        episode = generate_episode()\n",
    "        G = 0  # Initialize return\n",
    "        visited_states = set()\n",
    "\n",
    "        for state, reward in reversed(episode):\n",
    "            G = reward + GAMMA * G\n",
    "            if state not in visited_states:\n",
    "                returns[state].append(G)\n",
    "                V[state] = np.mean(returns[state])  # Update V(s) with average return\n",
    "                visited_states.add(state)\n",
    "\n",
    "    return V\n",
    "\n",
    "def plot_value_function(V, title=\"Value Function (MC Prediction)\"):\n",
    "    plt.figure(figsize=(6,6))\n",
    "    plt.imshow(V, cmap='coolwarm', interpolation='nearest')\n",
    "    for i in range(GRID_SIZE):\n",
    "        for j in range(GRID_SIZE):\n",
    "            plt.text(j, i, f\"{V[i, j]:.1f}\", ha='center', va='center', color='black')\n",
    "    plt.colorbar()\n",
    "    plt.title(title)\n",
    "    plt.show()\n"
   ]
  },
  {
   "cell_type": "markdown",
   "id": "73ebd750-3472-47c5-bda0-73f26f439c0e",
   "metadata": {},
   "source": [
    "##  Monte Carlo Prediction Algorithm\n",
    "\n",
    "The **Monte Carlo (MC) Prediction algorithm** is a model-free reinforcement learning method used to estimate the **state-value function \\( V(s) \\)** by averaging returns from multiple episodes.\n",
    "\n",
    "### **Steps in the Main Function:**\n",
    "\n",
    "1. **Initialize Value Function and Returns:**\n",
    "   - The state-value function \\( V(s) \\) is initialized to **zero** for all states.\n",
    "   - A dictionary is used to **store all returns** for each state.\n",
    "\n",
    "2. **Loop Through Episodes:**\n",
    "   - The agent runs multiple **episodes** (full sequences of states, actions, and rewards).\n",
    "\n",
    "3. **Generate an Episode:**\n",
    "   - The agent **interacts with the environment** by following a given policy.\n",
    "   - Each episode consists of a sequence of **(state, action, reward)** pairs.\n",
    "\n",
    "4. **Compute Returns (First-Visit MC or Every-Visit MC):**\n",
    "   - For each **state encountered in the episode**, compute the **cumulative future rewards** (Return \\( G_t \\)):\n",
    "     \\[\n",
    "     G_t = R_t + \\gamma R_{t+1} + \\gamma^2 R_{t+2} + \\dots\n",
    "     \\]\n",
    "   - **First-visit MC:** Updates only the first occurrence of a state in the episode.\n",
    "   - **Every-visit MC:** Updates every occurrence of a state.\n",
    "\n",
    "5. **Update State-Value Function:**\n",
    "   - The value function is updated using the average of all observed returns:\n",
    "     \\[\n",
    "     V(s) = \\frac{1}{N(s)} \\sum G(s)\n",
    "     \\]\n",
    "     - \\( N(s) \\) = Number of times state \\( s \\) was visited.\n",
    "     - \\( G(s) \\) = Total accumulated return from all episodes where \\( s \\) was visited.\n",
    "\n",
    "6. **Repeat Until Convergence:**\n",
    "   - The value function stabilizes as more episodes are processed.\n",
    "\n",
    "### **Why is This Important?**\n",
    "- Monte Carlo methods are **model-free**, meaning they do not require knowledge of environment dynamics.\n",
    "- Unlike Temporal Difference (TD) learning, MC updates **only after completing an episode** rather than at every step.\n",
    "- MC methods work well for **episodic tasks** where learning from complete episodes is feasible.\n"
   ]
  },
  {
   "cell_type": "code",
   "execution_count": 3,
   "id": "00d31636-45fa-47b3-a9ac-2a841293e596",
   "metadata": {},
   "outputs": [
    {
     "name": "stdout",
     "output_type": "stream",
     "text": [
      "Final Value Function:\n",
      "[[ 0.         -2.89704813 -5.28725402 -7.09903401]\n",
      " [-2.99039376 -4.28621315 -5.8808482  -7.2306204 ]\n",
      " [-5.37684639 -5.96472061 -6.88094066 -7.81162421]\n",
      " [-7.10312201 -7.18787247 -7.78022437 -8.3147844 ]]\n"
     ]
    },
    {
     "data": {
      "image/png": "[encoded data removed]",
      "text/plain": [
       "<Figure size 600x600 with 2 Axes>"
      ]
     },
     "metadata": {},
     "output_type": "display_data"
    }
   ],
   "source": [
    "\n",
    "# Run Monte Carlo Learning\n",
    "V_mc = mc_prediction()\n",
    "print(\"Final Value Function:\")\n",
    "print(V_mc)\n",
    "plot_value_function(V_mc)"
   ]
  },
  {
   "cell_type": "markdown",
   "id": "461f8f36-b02b-4e6f-81d6-916863071629",
   "metadata": {},
   "source": [
    "## **Brief Explanation of the Output (Monte Carlo Prediction)**\n",
    "\n",
    "The heatmap represents the **state-value function** \\( V(s) \\) estimated using **Monte Carlo (MC) Prediction** in a **GridWorld environment**.\n",
    "\n",
    "### **Color Mapping:**\n",
    "- **Red (higher values, closer to 0):** Indicates states with a **higher expected return**.\n",
    "- **Blue (lower values, more negative):** Represents states with a **lower expected return**.\n",
    "\n",
    "### **Monte Carlo Learning Pattern:**\n",
    "- Values are updated **only after full episodes**, meaning learning occurs based on **complete returns** rather than step-by-step updates.\n",
    "- **Higher values appear near the goal or favorable states**, as MC relies on averaging rewards from multiple episodes.\n",
    "\n",
    "### **Differences from TD Prediction:**\n",
    "- **MC updates after full episodes**, leading to **more fluctuation early on** but a **less biased estimate**.\n",
    "- **TD updates at each step**, making it smoother but more dependent on previous values.\n"
   ]
  },
  {
   "cell_type": "code",
   "execution_count": null,
   "id": "e35a2ea7-9d4c-4a85-a200-e0fbd1dea05d",
   "metadata": {},
   "outputs": [],
   "source": []
  }
 ],
 "metadata": {
  "kernelspec": {
   "display_name": "Python 3 (ipykernel)",
   "language": "python",
   "name": "python3"
  },
  "language_info": {
   "codemirror_mode": {
    "name": "ipython",
    "version": 3
   },
   "file_extension": ".py",
   "mimetype": "text/x-python",
   "name": "python",
   "nbconvert_exporter": "python",
   "pygments_lexer": "ipython3",
   "version": "3.11.7"
  }
 },
 "nbformat": 4,
 "nbformat_minor": 5
}
