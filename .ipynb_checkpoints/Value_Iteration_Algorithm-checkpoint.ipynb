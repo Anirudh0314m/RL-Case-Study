{
 "cells": [
  {
   "cell_type": "markdown",
   "id": "f2786206",
   "metadata": {},
   "source": [
    "# Value Iteration Algorithm\n",
    "\n",
    "This notebook implements the **Value Iteration Algorithm** algorithm in a **GridWorld** environment. The goal is to estimate the state-value function using the specified reinforcement learning approach.\n",
    "\n"
   ]
  },
  {
   "cell_type": "code",
   "execution_count": 2,
   "id": "d734e4e4",
   "metadata": {},
   "outputs": [],
   "source": [
    "import numpy as np\n",
    "import matplotlib.pyplot as plt\n",
    "\n",
    "# GridWorld Environment (4x4)\n",
    "GRID_SIZE = 4\n",
    "GAMMA = 1.0  # Discount factor\n",
    "THETA = 1e-4  # Convergence threshold\n",
    "\n",
    "actions = [(0, -1), (0, 1), (-1, 0), (1, 0)]  # LEFT, RIGHT, UP, DOWN\n",
    "\n",
    "def initialize_grid():\n",
    "    return np.zeros((GRID_SIZE, GRID_SIZE))  # Initialize value function to 0\n",
    "\n",
    "def is_terminal(state):\n",
    "    return state == (0, 0)\n",
    "\n",
    "def get_next_states(state):\n",
    "    \"\"\"Returns possible next states and reward.\"\"\"\n",
    "    i, j = state\n",
    "    transitions = []\n",
    "    for action in actions:\n",
    "        ni, nj = i + action[0], j + action[1]\n",
    "        if 0 <= ni < GRID_SIZE and 0 <= nj < GRID_SIZE:\n",
    "            transitions.append(((ni, nj), -1))  # Valid move with reward -1\n",
    "        else:\n",
    "            transitions.append((state, -1))  # Hitting wall, stays in place\n",
    "    return transitions\n",
    "\n",
    "def value_iteration(max_iters=1000):\n",
    "    V = initialize_grid()\n",
    "    iterations = 0\n",
    "\n",
    "    while True:\n",
    "        iterations += 1\n",
    "        delta = 0\n",
    "        new_V = np.copy(V)\n",
    "\n",
    "        for i in range(GRID_SIZE):\n",
    "            for j in range(GRID_SIZE):\n",
    "                if is_terminal((i, j)):\n",
    "                    continue\n",
    "\n",
    "                action_values = []\n",
    "                for action in actions:\n",
    "                    ni, nj = i + action[0], j + action[1]\n",
    "                    if 0 <= ni < GRID_SIZE and 0 <= nj < GRID_SIZE:\n",
    "                        reward = -1\n",
    "                        action_values.append(reward + GAMMA * V[ni, nj])\n",
    "                    else:\n",
    "                        action_values.append(-1 + GAMMA * V[i, j])\n",
    "\n",
    "                new_V[i, j] = max(action_values)\n",
    "                delta = max(delta, abs(new_V[i, j] - V[i, j]))\n",
    "\n",
    "        V = new_V\n",
    "\n",
    "        # Print progress every 10 iterations\n",
    "        if iterations % 10 == 0:\n",
    "            print(f\"Iteration {iterations}: Max Delta = {delta:.6f}\")\n",
    "\n",
    "        if delta < THETA or iterations >= max_iters:\n",
    "            break\n",
    "\n",
    "    print(f\"Value Iteration completed in {iterations} iterations.\")\n",
    "    return V\n",
    "\n",
    "\n",
    "def plot_value_function(V, title):\n",
    "    plt.figure(figsize=(6,6))\n",
    "    plt.imshow(V, cmap='coolwarm', interpolation='nearest')\n",
    "    for i in range(GRID_SIZE):\n",
    "        for j in range(GRID_SIZE):\n",
    "            plt.text(j, i, f\"{V[i, j]:.1f}\", ha='center', va='center', color='black')\n",
    "    plt.colorbar()\n",
    "    plt.title(title)\n",
    "    plt.show()\n",
    "\n"
   ]
  },
  {
   "cell_type": "markdown",
   "id": "6e877e7f-aaba-481b-84ed-2dcf1384b5f4",
   "metadata": {},
   "source": [
    "## **Main Function Explanation (Value Iteration Algorithm)**\n",
    "\n",
    "The **Value Iteration algorithm** is a **Dynamic Programming (DP) method** used to directly compute the **optimal value function** and **policy**.\n",
    "\n",
    "### **Steps in the Main Function:**\n",
    "\n",
    "1. **Initialize Value Function:**\n",
    "   - The state-value function \\( V(s) \\) is initialized to **zero** for all states.\n",
    "\n",
    "2. **Iterate Over States:**\n",
    "   - For each state, update the value function using the **Bellman optimality equation**:\n",
    "     \\[\n",
    "     V(s) = \\max_a \\sum_{s'} P(s' | s, a) [R + \\gamma V(s')]\n",
    "     \\]\n",
    "   - This step **finds the best possible action-value** for each state.\n",
    "\n",
    "3. **Check for Convergence:**\n",
    "   - The algorithm stops when the **difference between successive updates** is **smaller than a threshold** (\\( \\theta \\)).\n",
    "   - This ensures that the value function has **stabilized**.\n",
    "\n",
    "4. **Extract Optimal Policy:**\n",
    "   - Once \\( V(s) \\) **converges**, the **optimal policy** is derived:\n",
    "     \\[\n",
    "     \\pi(s) = \\arg\\max_a \\sum_{s'} P(s' | s, a) [R + \\gamma V(s')]\n",
    "     \\]\n",
    "   - The policy is chosen based on the **best possible action** at each state.\n",
    "\n",
    "### **Why is This Important?**\n",
    "- **Faster than Policy Iteration** since it merges **evaluation and improvement** in one step.\n",
    "- Guarantees **convergence to the optimal value function**.\n",
    "- Used in **large-scale MDPs** where policy evaluation is computationally expensive.\n"
   ]
  },
  {
   "cell_type": "code",
   "execution_count": 3,
   "id": "ea36d8d0-1ecc-4f5a-877b-779195c796fe",
   "metadata": {},
   "outputs": [
    {
     "name": "stdout",
     "output_type": "stream",
     "text": [
      "Value Iteration completed in 7 iterations.\n",
      "Final Value Function (Policy Iteration):\n",
      "[[ 0. -1. -2. -3.]\n",
      " [-1. -2. -3. -4.]\n",
      " [-2. -3. -4. -5.]\n",
      " [-3. -4. -5. -6.]]\n"
     ]
    },
    {
     "data": {
      "image/png": "[encoded data removed]",
      "text/plain": [
       "<Figure size 600x600 with 2 Axes>"
      ]
     },
     "metadata": {},
     "output_type": "display_data"
    }
   ],
   "source": [
    "# Run Policy Iteration\n",
    "V_pi = value_iteration()\n",
    "print(\"Final Value Function (Policy Iteration):\")\n",
    "print(V_pi)\n",
    "plot_value_function(V_pi, \"Value Function (Policy Iteration)\")"
   ]
  },
  {
   "cell_type": "markdown",
   "id": "bb83a29d-84fb-4e19-a216-805c0d13c752",
   "metadata": {},
   "source": [
    "## **Brief Explanation of the Output (Value Iteration Algorithm)**\n",
    "\n",
    "The heatmap represents the **state-value function** \\( V(s) \\) estimated using **Value Iteration** in a **GridWorld MDP environment**.\n",
    "\n",
    "### **Color Mapping:**\n",
    "- **Red (higher values, closer to 0):** Indicates states with **higher expected return**.\n",
    "- **Blue (lower values, more negative):** Represents states with **lower expected return**.\n",
    "\n",
    "### **Value Iteration Learning Pattern:**\n",
    "- The algorithm **updates the value function in a single loop** by applying:\n",
    "  \\[\n",
    "  V(s) = \\max_a \\sum_{s'} P(s' | s, a) [R + \\gamma V(s')]\n",
    "  \\]\n",
    "- Unlike Policy Iteration, **Value Iteration does not require separate policy evaluation**.\n",
    "\n",
    "### **Gradient of Values:**\n",
    "- The **goal state or favorable states** have the **highest values**.\n",
    "- Values **decrease gradually**, reflecting **optimal decision-making** at each state.\n",
    "\n",
    "### **Key Takeaways:**\n",
    "- **Faster than Policy Iteration** since it merges evaluation and improvement in one step.\n",
    "- Guarantees **convergence to the optimal value function**.\n",
    "- Useful for **solving large-scale MDPs** where policy evaluation is computationally expensive.\n"
   ]
  },
  {
   "cell_type": "code",
   "execution_count": null,
   "id": "581195bf-6661-49a4-82ad-3bb25b37cd0b",
   "metadata": {},
   "outputs": [],
   "source": []
  }
 ],
 "metadata": {
  "kernelspec": {
   "display_name": "Python 3 (ipykernel)",
   "language": "python",
   "name": "python3"
  },
  "language_info": {
   "codemirror_mode": {
    "name": "ipython",
    "version": 3
   },
   "file_extension": ".py",
   "mimetype": "text/x-python",
   "name": "python",
   "nbconvert_exporter": "python",
   "pygments_lexer": "ipython3",
   "version": "3.11.7"
  }
 },
 "nbformat": 4,
 "nbformat_minor": 5
}
