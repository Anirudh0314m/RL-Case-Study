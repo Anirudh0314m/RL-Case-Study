{
 "cells": [
  {
   "cell_type": "markdown",
   "id": "49c84582",
   "metadata": {},
   "source": [
    "# TD Prediction Algorithm\n",
    "\n",
    "This notebook implements the **TD Prediction Algorithm** algorithm in a **GridWorld** environment. The goal is to estimate the state-value function using the specified reinforcement learning approach.\n",
    "\n"
   ]
  },
  {
   "cell_type": "code",
   "execution_count": 3,
   "id": "ad7bf58f",
   "metadata": {},
   "outputs": [],
   "source": [
    "import numpy as np\n",
    "import matplotlib.pyplot as plt\n",
    "\n",
    "# GridWorld Environment (4x4)\n",
    "GRID_SIZE = 4\n",
    "ALPHA = 0.1  # Learning rate\n",
    "GAMMA = 0.9  # Discount factor\n",
    "EPISODES = 1000\n",
    "\n",
    "def initialize_grid():\n",
    "    return np.zeros((GRID_SIZE, GRID_SIZE))  # Initialize value function to 0\n",
    "\n",
    "def get_next_state(state, action):\n",
    "    \"\"\" Returns next state based on action (UP, DOWN, LEFT, RIGHT). \"\"\"\n",
    "    i, j = state\n",
    "    if action == 0 and i > 0:  # UP\n",
    "        i -= 1\n",
    "    elif action == 1 and i < GRID_SIZE - 1:  # DOWN\n",
    "        i += 1\n",
    "    elif action == 2 and j > 0:  # LEFT\n",
    "        j -= 1\n",
    "    elif action == 3 and j < GRID_SIZE - 1:  # RIGHT\n",
    "        j += 1\n",
    "    return (i, j)\n",
    "\n",
    "def td_prediction():\n",
    "    V = initialize_grid()\n",
    "    for episode in range(1, EPISODES + 1):\n",
    "        state = (np.random.randint(0, GRID_SIZE), np.random.randint(0, GRID_SIZE))  # Start at random state\n",
    "        while state != (0, 0):  # Terminal state\n",
    "            action = np.random.choice(4)  # Random action (UP, DOWN, LEFT, RIGHT)\n",
    "            next_state = get_next_state(state, action)\n",
    "            reward = -1  # Each step has -1 reward\n",
    "\n",
    "            # TD(0) Update Rule\n",
    "            V[state] += ALPHA * (reward + GAMMA * V[next_state] - V[state])\n",
    "            state = next_state  # Move to next state\n",
    "    return V\n",
    "\n",
    "def plot_value_function(V, title=\"Value Function (TD Prediction)\"):\n",
    "    plt.figure(figsize=(6,6))\n",
    "    plt.imshow(V, cmap='coolwarm', interpolation='nearest')\n",
    "    for i in range(GRID_SIZE):\n",
    "        for j in range(GRID_SIZE):\n",
    "            plt.text(j, i, f\"{V[i, j]:.1f}\", ha='center', va='center', color='black')\n",
    "    plt.colorbar()\n",
    "    plt.title(title)\n",
    "    plt.show()\n"
   ]
  },
  {
   "cell_type": "markdown",
   "id": "116a4d6d-3982-4421-aff5-08486ec01130",
   "metadata": {},
   "source": [
    "##  TD Prediction Algorithm\n",
    "\n",
    "The **main function** is responsible for learning the **state-value function** \\( V(s) \\) using **Temporal Difference (TD) Prediction** in a **GridWorld environment**.\n",
    "\n",
    "### **Steps in the Main Function:**\n",
    "\n",
    "1. **Initialize the Grid:**\n",
    "   - The state-value function \\( V(s) \\) is initialized as a **4×4 grid of zeros**.\n",
    "\n",
    "2. **Loop Through Episodes:**\n",
    "   - The algorithm runs for a predefined number of episodes (e.g., 1000) to ensure sufficient learning.\n",
    "\n",
    "3. **Select a Random Starting State:**\n",
    "   - Each episode begins at a random state within the grid.\n",
    "\n",
    "4. **Action Selection and State Transition:**\n",
    "   - The agent selects an action (**UP, DOWN, LEFT, RIGHT**).\n",
    "   - The environment responds with a **next state** and a **reward**.\n",
    "\n",
    "5. **TD Update Rule (Core Learning Step):**\n",
    "   - The state-value function is updated using the formula:\n",
    "     \\[\n",
    "     V(s) \\leftarrow V(s) + \\alpha [R + \\gamma V(s') - V(s)]\n",
    "     \\]\n",
    "     - \\( alpha \\) = **Learning rate** (controls step size).\n",
    "     - \\( gamma \\) = **Discount factor** (balances immediate vs. future rewards).\n",
    "     - \\( R \\) = **Reward received after taking action**.\n",
    "     - \\( s' \\) = **Next state**.\n",
    "\n",
    "6. **Repeat Until Convergence:**\n",
    "   - The process continues until values **stabilize** (i.e., changes become very small).\n",
    "\n",
    "### **Why is This Important?**\n",
    "- The **TD update rule** allows the agent to learn **without knowing the full transition probabilities** of the environment.\n",
    "- Unlike Monte Carlo methods, **TD learning updates values after every step** rather than waiting until the end of an episode.\n",
    "- This enables **faster learning** in real-world applications.\n",
    "\n"
   ]
  },
  {
   "cell_type": "code",
   "execution_count": 5,
   "id": "9ff18e3b-f803-4775-a893-792f16d72f6b",
   "metadata": {},
   "outputs": [
    {
     "name": "stdout",
     "output_type": "stream",
     "text": [
      "Final Value Function:\n",
      "[[ 0.         -5.8868234  -8.03996749 -8.81440067]\n",
      " [-4.95835574 -7.49185973 -8.60267543 -8.85873603]\n",
      " [-8.07294018 -8.61818753 -9.02613695 -9.26539902]\n",
      " [-8.82130131 -9.08427715 -9.29265267 -9.36899717]]\n"
     ]
    },
    {
     "data": {
      "image/png": "[encoded data removed]",
      "text/plain": [
       "<Figure size 600x600 with 2 Axes>"
      ]
     },
     "metadata": {},
     "output_type": "display_data"
    }
   ],
   "source": [
    "\n",
    "# Run TD Learning\n",
    "V_td = td_prediction()\n",
    "print(\"Final Value Function:\")\n",
    "print(V_td)\n",
    "plot_value_function(V_td)"
   ]
  },
  {
   "cell_type": "markdown",
   "id": "4902e5fb-919d-46df-9184-98f561cd7c75",
   "metadata": {},
   "source": [
    "## **Brief Explanation of the Output**\n",
    "\n",
    "The heatmap represents the **state-value function \\( V(s) \\)** estimated using **Temporal Difference (TD) Prediction** in a **GridWorld** environment.\n",
    "\n",
    "### **Color Mapping:**\n",
    "- **Red (0.0):** Highest value, likely the **starting or goal state**.\n",
    "- **Blue (negative values):** Lower values indicate **states further from the goal**.\n",
    "\n",
    "### **Value Function Trend:**\n",
    "- Values **decrease** as you move **further from the top-left corner**, showing the effect of **discounted future rewards**.\n",
    "- This pattern reflects **learning from experience**, where nearby states are influenced **more by immediate rewards than distant ones**.\n"
   ]
  },
  {
   "cell_type": "code",
   "execution_count": null,
   "id": "8edd6b28-3cbc-4f02-9472-dc8555b1fb5c",
   "metadata": {},
   "outputs": [],
   "source": []
  }
 ],
 "metadata": {
  "kernelspec": {
   "display_name": "Python 3 (ipykernel)",
   "language": "python",
   "name": "python3"
  },
  "language_info": {
   "codemirror_mode": {
    "name": "ipython",
    "version": 3
   },
   "file_extension": ".py",
   "mimetype": "text/x-python",
   "name": "python",
   "nbconvert_exporter": "python",
   "pygments_lexer": "ipython3",
   "version": "3.11.7"
  }
 },
 "nbformat": 4,
 "nbformat_minor": 5
}
